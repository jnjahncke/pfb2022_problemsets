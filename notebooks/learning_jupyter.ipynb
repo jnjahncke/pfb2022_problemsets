{
 "cells": [
  {
   "cell_type": "markdown",
   "id": "cb9767c8",
   "metadata": {},
   "source": [
    "# Step 1: Import packages"
   ]
  },
  {
   "cell_type": "code",
   "execution_count": 3,
   "id": "d7ebb62a",
   "metadata": {},
   "outputs": [],
   "source": [
    "import pandas as pd"
   ]
  },
  {
   "cell_type": "markdown",
   "id": "eabf8068",
   "metadata": {},
   "source": [
    "# Step 2: Define functions"
   ]
  },
  {
   "cell_type": "code",
   "execution_count": 5,
   "id": "3f424185",
   "metadata": {},
   "outputs": [],
   "source": [
    "def count_nts(seq):\n",
    "    A = seq.count(\"A\")\n",
    "    return (A)"
   ]
  },
  {
   "cell_type": "markdown",
   "id": "09f926f5",
   "metadata": {},
   "source": [
    "Test function:"
   ]
  },
  {
   "cell_type": "code",
   "execution_count": 6,
   "id": "1cd8f02f",
   "metadata": {},
   "outputs": [
    {
     "data": {
      "text/plain": [
       "2"
      ]
     },
     "execution_count": 6,
     "metadata": {},
     "output_type": "execute_result"
    }
   ],
   "source": [
    "count_nts(\"ABCDABC\")"
   ]
  },
  {
   "cell_type": "code",
   "execution_count": 1,
   "id": "16d8b9c4",
   "metadata": {},
   "outputs": [
    {
     "name": "stdout",
     "output_type": "stream",
     "text": [
      "hello\n"
     ]
    }
   ],
   "source": [
    "print(\"hello\")"
   ]
  },
  {
   "cell_type": "code",
   "execution_count": null,
   "id": "a0f87e09",
   "metadata": {},
   "outputs": [],
   "source": []
  }
 ],
 "metadata": {
  "kernelspec": {
   "display_name": "Python 3 (ipykernel)",
   "language": "python",
   "name": "python3"
  },
  "language_info": {
   "codemirror_mode": {
    "name": "ipython",
    "version": 3
   },
   "file_extension": ".py",
   "mimetype": "text/x-python",
   "name": "python",
   "nbconvert_exporter": "python",
   "pygments_lexer": "ipython3",
   "version": "3.8.13"
  }
 },
 "nbformat": 4,
 "nbformat_minor": 5
}
